{
 "cells": [
  {
   "cell_type": "code",
   "execution_count": 2,
   "id": "7dd4e42d",
   "metadata": {},
   "outputs": [],
   "source": [
    "import numpy as np \n",
    "import pandas as pd\n",
    "import matplotlib.pyplot as plt\n",
    "import seaborn as sbn "
   ]
  },
  {
   "cell_type": "code",
   "execution_count": 3,
   "id": "5cc6367a",
   "metadata": {},
   "outputs": [
    {
     "data": {
      "text/html": [
       "<div>\n",
       "<style scoped>\n",
       "    .dataframe tbody tr th:only-of-type {\n",
       "        vertical-align: middle;\n",
       "    }\n",
       "\n",
       "    .dataframe tbody tr th {\n",
       "        vertical-align: top;\n",
       "    }\n",
       "\n",
       "    .dataframe thead th {\n",
       "        text-align: right;\n",
       "    }\n",
       "</style>\n",
       "<table border=\"1\" class=\"dataframe\">\n",
       "  <thead>\n",
       "    <tr style=\"text-align: right;\">\n",
       "      <th></th>\n",
       "      <th>Province/State</th>\n",
       "      <th>Country/Region</th>\n",
       "      <th>Lat</th>\n",
       "      <th>Long</th>\n",
       "      <th>1/22/20</th>\n",
       "      <th>1/23/20</th>\n",
       "      <th>1/24/20</th>\n",
       "      <th>1/25/20</th>\n",
       "      <th>1/26/20</th>\n",
       "      <th>1/27/20</th>\n",
       "      <th>...</th>\n",
       "      <th>5/20/21</th>\n",
       "      <th>5/21/21</th>\n",
       "      <th>5/22/21</th>\n",
       "      <th>5/23/21</th>\n",
       "      <th>5/24/21</th>\n",
       "      <th>5/25/21</th>\n",
       "      <th>5/26/21</th>\n",
       "      <th>5/27/21</th>\n",
       "      <th>5/28/21</th>\n",
       "      <th>5/29/21</th>\n",
       "    </tr>\n",
       "  </thead>\n",
       "  <tbody>\n",
       "    <tr>\n",
       "      <th>0</th>\n",
       "      <td>NaN</td>\n",
       "      <td>Afghanistan</td>\n",
       "      <td>33.939110</td>\n",
       "      <td>67.709953</td>\n",
       "      <td>0</td>\n",
       "      <td>0</td>\n",
       "      <td>0</td>\n",
       "      <td>0</td>\n",
       "      <td>0</td>\n",
       "      <td>0</td>\n",
       "      <td>...</td>\n",
       "      <td>64575</td>\n",
       "      <td>65080</td>\n",
       "      <td>65486</td>\n",
       "      <td>65728</td>\n",
       "      <td>66275</td>\n",
       "      <td>66903</td>\n",
       "      <td>67743</td>\n",
       "      <td>68366</td>\n",
       "      <td>69130</td>\n",
       "      <td>70111</td>\n",
       "    </tr>\n",
       "    <tr>\n",
       "      <th>1</th>\n",
       "      <td>NaN</td>\n",
       "      <td>Albania</td>\n",
       "      <td>41.153300</td>\n",
       "      <td>20.168300</td>\n",
       "      <td>0</td>\n",
       "      <td>0</td>\n",
       "      <td>0</td>\n",
       "      <td>0</td>\n",
       "      <td>0</td>\n",
       "      <td>0</td>\n",
       "      <td>...</td>\n",
       "      <td>132118</td>\n",
       "      <td>132153</td>\n",
       "      <td>132176</td>\n",
       "      <td>132209</td>\n",
       "      <td>132215</td>\n",
       "      <td>132229</td>\n",
       "      <td>132244</td>\n",
       "      <td>132264</td>\n",
       "      <td>132285</td>\n",
       "      <td>132297</td>\n",
       "    </tr>\n",
       "    <tr>\n",
       "      <th>2</th>\n",
       "      <td>NaN</td>\n",
       "      <td>Algeria</td>\n",
       "      <td>28.033900</td>\n",
       "      <td>1.659600</td>\n",
       "      <td>0</td>\n",
       "      <td>0</td>\n",
       "      <td>0</td>\n",
       "      <td>0</td>\n",
       "      <td>0</td>\n",
       "      <td>0</td>\n",
       "      <td>...</td>\n",
       "      <td>126156</td>\n",
       "      <td>126434</td>\n",
       "      <td>126651</td>\n",
       "      <td>126860</td>\n",
       "      <td>127107</td>\n",
       "      <td>127361</td>\n",
       "      <td>127646</td>\n",
       "      <td>127926</td>\n",
       "      <td>128198</td>\n",
       "      <td>128456</td>\n",
       "    </tr>\n",
       "    <tr>\n",
       "      <th>3</th>\n",
       "      <td>NaN</td>\n",
       "      <td>Andorra</td>\n",
       "      <td>42.506300</td>\n",
       "      <td>1.521800</td>\n",
       "      <td>0</td>\n",
       "      <td>0</td>\n",
       "      <td>0</td>\n",
       "      <td>0</td>\n",
       "      <td>0</td>\n",
       "      <td>0</td>\n",
       "      <td>...</td>\n",
       "      <td>13569</td>\n",
       "      <td>13569</td>\n",
       "      <td>13569</td>\n",
       "      <td>13569</td>\n",
       "      <td>13569</td>\n",
       "      <td>13664</td>\n",
       "      <td>13671</td>\n",
       "      <td>13682</td>\n",
       "      <td>13693</td>\n",
       "      <td>13693</td>\n",
       "    </tr>\n",
       "    <tr>\n",
       "      <th>4</th>\n",
       "      <td>NaN</td>\n",
       "      <td>Angola</td>\n",
       "      <td>-11.202700</td>\n",
       "      <td>17.873900</td>\n",
       "      <td>0</td>\n",
       "      <td>0</td>\n",
       "      <td>0</td>\n",
       "      <td>0</td>\n",
       "      <td>0</td>\n",
       "      <td>0</td>\n",
       "      <td>...</td>\n",
       "      <td>31661</td>\n",
       "      <td>31909</td>\n",
       "      <td>32149</td>\n",
       "      <td>32441</td>\n",
       "      <td>32623</td>\n",
       "      <td>32933</td>\n",
       "      <td>33338</td>\n",
       "      <td>33607</td>\n",
       "      <td>33944</td>\n",
       "      <td>34180</td>\n",
       "    </tr>\n",
       "    <tr>\n",
       "      <th>...</th>\n",
       "      <td>...</td>\n",
       "      <td>...</td>\n",
       "      <td>...</td>\n",
       "      <td>...</td>\n",
       "      <td>...</td>\n",
       "      <td>...</td>\n",
       "      <td>...</td>\n",
       "      <td>...</td>\n",
       "      <td>...</td>\n",
       "      <td>...</td>\n",
       "      <td>...</td>\n",
       "      <td>...</td>\n",
       "      <td>...</td>\n",
       "      <td>...</td>\n",
       "      <td>...</td>\n",
       "      <td>...</td>\n",
       "      <td>...</td>\n",
       "      <td>...</td>\n",
       "      <td>...</td>\n",
       "      <td>...</td>\n",
       "      <td>...</td>\n",
       "    </tr>\n",
       "    <tr>\n",
       "      <th>271</th>\n",
       "      <td>NaN</td>\n",
       "      <td>Vietnam</td>\n",
       "      <td>14.058324</td>\n",
       "      <td>108.277199</td>\n",
       "      <td>0</td>\n",
       "      <td>2</td>\n",
       "      <td>2</td>\n",
       "      <td>2</td>\n",
       "      <td>2</td>\n",
       "      <td>2</td>\n",
       "      <td>...</td>\n",
       "      <td>4809</td>\n",
       "      <td>4941</td>\n",
       "      <td>5119</td>\n",
       "      <td>5275</td>\n",
       "      <td>5404</td>\n",
       "      <td>5931</td>\n",
       "      <td>6086</td>\n",
       "      <td>6356</td>\n",
       "      <td>6396</td>\n",
       "      <td>6908</td>\n",
       "    </tr>\n",
       "    <tr>\n",
       "      <th>272</th>\n",
       "      <td>NaN</td>\n",
       "      <td>West Bank and Gaza</td>\n",
       "      <td>31.952200</td>\n",
       "      <td>35.233200</td>\n",
       "      <td>0</td>\n",
       "      <td>0</td>\n",
       "      <td>0</td>\n",
       "      <td>0</td>\n",
       "      <td>0</td>\n",
       "      <td>0</td>\n",
       "      <td>...</td>\n",
       "      <td>304532</td>\n",
       "      <td>304968</td>\n",
       "      <td>305201</td>\n",
       "      <td>305201</td>\n",
       "      <td>305777</td>\n",
       "      <td>306334</td>\n",
       "      <td>306795</td>\n",
       "      <td>306795</td>\n",
       "      <td>307569</td>\n",
       "      <td>307838</td>\n",
       "    </tr>\n",
       "    <tr>\n",
       "      <th>273</th>\n",
       "      <td>NaN</td>\n",
       "      <td>Yemen</td>\n",
       "      <td>15.552727</td>\n",
       "      <td>48.516388</td>\n",
       "      <td>0</td>\n",
       "      <td>0</td>\n",
       "      <td>0</td>\n",
       "      <td>0</td>\n",
       "      <td>0</td>\n",
       "      <td>0</td>\n",
       "      <td>...</td>\n",
       "      <td>6613</td>\n",
       "      <td>6632</td>\n",
       "      <td>6649</td>\n",
       "      <td>6658</td>\n",
       "      <td>6662</td>\n",
       "      <td>6670</td>\n",
       "      <td>6688</td>\n",
       "      <td>6696</td>\n",
       "      <td>6723</td>\n",
       "      <td>6731</td>\n",
       "    </tr>\n",
       "    <tr>\n",
       "      <th>274</th>\n",
       "      <td>NaN</td>\n",
       "      <td>Zambia</td>\n",
       "      <td>-13.133897</td>\n",
       "      <td>27.849332</td>\n",
       "      <td>0</td>\n",
       "      <td>0</td>\n",
       "      <td>0</td>\n",
       "      <td>0</td>\n",
       "      <td>0</td>\n",
       "      <td>0</td>\n",
       "      <td>...</td>\n",
       "      <td>92754</td>\n",
       "      <td>92920</td>\n",
       "      <td>93106</td>\n",
       "      <td>93201</td>\n",
       "      <td>93279</td>\n",
       "      <td>93428</td>\n",
       "      <td>93627</td>\n",
       "      <td>93947</td>\n",
       "      <td>94430</td>\n",
       "      <td>94751</td>\n",
       "    </tr>\n",
       "    <tr>\n",
       "      <th>275</th>\n",
       "      <td>NaN</td>\n",
       "      <td>Zimbabwe</td>\n",
       "      <td>-19.015438</td>\n",
       "      <td>29.154857</td>\n",
       "      <td>0</td>\n",
       "      <td>0</td>\n",
       "      <td>0</td>\n",
       "      <td>0</td>\n",
       "      <td>0</td>\n",
       "      <td>0</td>\n",
       "      <td>...</td>\n",
       "      <td>38635</td>\n",
       "      <td>38664</td>\n",
       "      <td>38679</td>\n",
       "      <td>38682</td>\n",
       "      <td>38696</td>\n",
       "      <td>38706</td>\n",
       "      <td>38819</td>\n",
       "      <td>38854</td>\n",
       "      <td>38918</td>\n",
       "      <td>38933</td>\n",
       "    </tr>\n",
       "  </tbody>\n",
       "</table>\n",
       "<p>276 rows × 498 columns</p>\n",
       "</div>"
      ],
      "text/plain": [
       "    Province/State      Country/Region        Lat        Long  1/22/20  \\\n",
       "0              NaN         Afghanistan  33.939110   67.709953        0   \n",
       "1              NaN             Albania  41.153300   20.168300        0   \n",
       "2              NaN             Algeria  28.033900    1.659600        0   \n",
       "3              NaN             Andorra  42.506300    1.521800        0   \n",
       "4              NaN              Angola -11.202700   17.873900        0   \n",
       "..             ...                 ...        ...         ...      ...   \n",
       "271            NaN             Vietnam  14.058324  108.277199        0   \n",
       "272            NaN  West Bank and Gaza  31.952200   35.233200        0   \n",
       "273            NaN               Yemen  15.552727   48.516388        0   \n",
       "274            NaN              Zambia -13.133897   27.849332        0   \n",
       "275            NaN            Zimbabwe -19.015438   29.154857        0   \n",
       "\n",
       "     1/23/20  1/24/20  1/25/20  1/26/20  1/27/20  ...  5/20/21  5/21/21  \\\n",
       "0          0        0        0        0        0  ...    64575    65080   \n",
       "1          0        0        0        0        0  ...   132118   132153   \n",
       "2          0        0        0        0        0  ...   126156   126434   \n",
       "3          0        0        0        0        0  ...    13569    13569   \n",
       "4          0        0        0        0        0  ...    31661    31909   \n",
       "..       ...      ...      ...      ...      ...  ...      ...      ...   \n",
       "271        2        2        2        2        2  ...     4809     4941   \n",
       "272        0        0        0        0        0  ...   304532   304968   \n",
       "273        0        0        0        0        0  ...     6613     6632   \n",
       "274        0        0        0        0        0  ...    92754    92920   \n",
       "275        0        0        0        0        0  ...    38635    38664   \n",
       "\n",
       "     5/22/21  5/23/21  5/24/21  5/25/21  5/26/21  5/27/21  5/28/21  5/29/21  \n",
       "0      65486    65728    66275    66903    67743    68366    69130    70111  \n",
       "1     132176   132209   132215   132229   132244   132264   132285   132297  \n",
       "2     126651   126860   127107   127361   127646   127926   128198   128456  \n",
       "3      13569    13569    13569    13664    13671    13682    13693    13693  \n",
       "4      32149    32441    32623    32933    33338    33607    33944    34180  \n",
       "..       ...      ...      ...      ...      ...      ...      ...      ...  \n",
       "271     5119     5275     5404     5931     6086     6356     6396     6908  \n",
       "272   305201   305201   305777   306334   306795   306795   307569   307838  \n",
       "273     6649     6658     6662     6670     6688     6696     6723     6731  \n",
       "274    93106    93201    93279    93428    93627    93947    94430    94751  \n",
       "275    38679    38682    38696    38706    38819    38854    38918    38933  \n",
       "\n",
       "[276 rows x 498 columns]"
      ]
     },
     "execution_count": 3,
     "metadata": {},
     "output_type": "execute_result"
    }
   ],
   "source": [
    "data_confirmed = pd.read_csv('covid_19_confirmed_v1.csv')\n",
    "data_deaths = pd.read_csv('covid_19_deaths_v1.csv')\n",
    "data_recovered = pd.read_csv('covid_19_recovered_v1.csv')\n",
    "data_confirmed"
   ]
  },
  {
   "cell_type": "code",
   "execution_count": 4,
   "id": "707b77cb",
   "metadata": {},
   "outputs": [
    {
     "data": {
      "text/plain": [
       "(276, 498)"
      ]
     },
     "execution_count": 4,
     "metadata": {},
     "output_type": "execute_result"
    }
   ],
   "source": [
    "data_confirmed.shape"
   ]
  },
  {
   "cell_type": "code",
   "execution_count": 5,
   "id": "43580637",
   "metadata": {},
   "outputs": [
    {
     "data": {
      "text/plain": [
       "(277, 498)"
      ]
     },
     "execution_count": 5,
     "metadata": {},
     "output_type": "execute_result"
    }
   ],
   "source": [
    "data_deaths.shape"
   ]
  },
  {
   "cell_type": "code",
   "execution_count": 6,
   "id": "4c6e0c82",
   "metadata": {},
   "outputs": [
    {
     "data": {
      "text/plain": [
       "(262, 498)"
      ]
     },
     "execution_count": 6,
     "metadata": {},
     "output_type": "execute_result"
    }
   ],
   "source": [
    "data_recovered.shape"
   ]
  },
  {
   "cell_type": "code",
   "execution_count": 7,
   "id": "73365970",
   "metadata": {},
   "outputs": [
    {
     "data": {
      "text/plain": [
       "Province/State     object\n",
       "Country/Region     object\n",
       "Lat               float64\n",
       "Long              float64\n",
       "1/22/20             int64\n",
       "                   ...   \n",
       "5/25/21             int64\n",
       "5/26/21             int64\n",
       "5/27/21             int64\n",
       "5/28/21             int64\n",
       "5/29/21             int64\n",
       "Length: 498, dtype: object"
      ]
     },
     "execution_count": 7,
     "metadata": {},
     "output_type": "execute_result"
    }
   ],
   "source": [
    "data_confirmed.dtypes"
   ]
  },
  {
   "cell_type": "code",
   "execution_count": 8,
   "id": "79c62b50",
   "metadata": {},
   "outputs": [
    {
     "data": {
      "text/plain": [
       "Column1      object\n",
       "Column2      object\n",
       "Column3      object\n",
       "Column4      object\n",
       "Column5      object\n",
       "              ...  \n",
       "Column494    object\n",
       "Column495    object\n",
       "Column496    object\n",
       "Column497    object\n",
       "Column498    object\n",
       "Length: 498, dtype: object"
      ]
     },
     "execution_count": 8,
     "metadata": {},
     "output_type": "execute_result"
    }
   ],
   "source": [
    "data_deaths.dtypes"
   ]
  },
  {
   "cell_type": "code",
   "execution_count": 9,
   "id": "076ff12a",
   "metadata": {},
   "outputs": [
    {
     "data": {
      "text/plain": [
       "Column1      object\n",
       "Column2      object\n",
       "Column3      object\n",
       "Column4      object\n",
       "Column5      object\n",
       "              ...  \n",
       "Column494    object\n",
       "Column495    object\n",
       "Column496    object\n",
       "Column497    object\n",
       "Column498    object\n",
       "Length: 498, dtype: object"
      ]
     },
     "execution_count": 9,
     "metadata": {},
     "output_type": "execute_result"
    }
   ],
   "source": [
    "data_recovered.dtypes"
   ]
  },
  {
   "cell_type": "code",
   "execution_count": 58,
   "id": "00449979",
   "metadata": {},
   "outputs": [
    {
     "name": "stderr",
     "output_type": "stream",
     "text": [
      "/tmp/ipykernel_3907/4090148235.py:5: UserWarning: Could not infer format, so each element will be parsed individually, falling back to `dateutil`. To ensure parsing is consistent and as-expected, please specify a format.\n",
      "  final['date'] = pd.to_datetime(final['date'])\n"
     ]
    },
    {
     "data": {
      "text/html": [
       "<div>\n",
       "<style scoped>\n",
       "    .dataframe tbody tr th:only-of-type {\n",
       "        vertical-align: middle;\n",
       "    }\n",
       "\n",
       "    .dataframe tbody tr th {\n",
       "        vertical-align: top;\n",
       "    }\n",
       "\n",
       "    .dataframe thead th {\n",
       "        text-align: right;\n",
       "    }\n",
       "</style>\n",
       "<table border=\"1\" class=\"dataframe\">\n",
       "  <thead>\n",
       "    <tr style=\"text-align: right;\">\n",
       "      <th></th>\n",
       "      <th>Country/Region</th>\n",
       "      <th>date</th>\n",
       "      <th>value</th>\n",
       "    </tr>\n",
       "  </thead>\n",
       "  <tbody>\n",
       "    <tr>\n",
       "      <th>0</th>\n",
       "      <td>Afghanistan</td>\n",
       "      <td>2020-01-22</td>\n",
       "      <td>0</td>\n",
       "    </tr>\n",
       "    <tr>\n",
       "      <th>1</th>\n",
       "      <td>Albania</td>\n",
       "      <td>2020-01-22</td>\n",
       "      <td>0</td>\n",
       "    </tr>\n",
       "    <tr>\n",
       "      <th>2</th>\n",
       "      <td>Algeria</td>\n",
       "      <td>2020-01-22</td>\n",
       "      <td>0</td>\n",
       "    </tr>\n",
       "    <tr>\n",
       "      <th>3</th>\n",
       "      <td>Andorra</td>\n",
       "      <td>2020-01-22</td>\n",
       "      <td>0</td>\n",
       "    </tr>\n",
       "    <tr>\n",
       "      <th>4</th>\n",
       "      <td>Angola</td>\n",
       "      <td>2020-01-22</td>\n",
       "      <td>0</td>\n",
       "    </tr>\n",
       "  </tbody>\n",
       "</table>\n",
       "</div>"
      ],
      "text/plain": [
       "  Country/Region       date  value\n",
       "0    Afghanistan 2020-01-22      0\n",
       "1        Albania 2020-01-22      0\n",
       "2        Algeria 2020-01-22      0\n",
       "3        Andorra 2020-01-22      0\n",
       "4         Angola 2020-01-22      0"
      ]
     },
     "execution_count": 58,
     "metadata": {},
     "output_type": "execute_result"
    }
   ],
   "source": [
    "copy_data_confirmed = pd.DataFrame.copy(data_confirmed)\n",
    "copy_data_confirmed.drop(columns=['Province/State', 'Lat', 'Long'], inplace=True)\n",
    "grouped = copy_data_confirmed.groupby('Country/Region').sum()\n",
    "final = grouped.reset_index().melt(id_vars='Country/Region', var_name='date')\n",
    "final['date'] = pd.to_datetime(final['date'])\n",
    "final.head()\n"
   ]
  },
  {
   "cell_type": "code",
   "execution_count": 52,
   "id": "48e02266",
   "metadata": {},
   "outputs": [
    {
     "data": {
      "text/plain": [
       "Country/Region\n",
       "US        6047736004\n",
       "India     3226953590\n",
       "Brazil    2653620509\n",
       "Russia     930548859\n",
       "France     855026731\n",
       "Name: value, dtype: int64"
      ]
     },
     "execution_count": 52,
     "metadata": {},
     "output_type": "execute_result"
    }
   ],
   "source": [
    "top_countries = final.groupby('Country/Region')['value'].sum().sort_values(ascending=False)\n",
    "top_countries.head(5)"
   ]
  },
  {
   "cell_type": "code",
   "execution_count": 45,
   "id": "c2088247",
   "metadata": {},
   "outputs": [
    {
     "data": {
      "image/png": "[encoded data removed]",
      "text/plain": [
       "<Figure size 1000x500 with 1 Axes>"
      ]
     },
     "metadata": {},
     "output_type": "display_data"
    }
   ],
   "source": [
    "china_data = final[final[\"Country/Region\"] == \"China\"]\n",
    "\n",
    "plt.figure(figsize=(10, 5))\n",
    "plt.plot(china_data[\"date\"], china_data[\"value\"], color='red', label='China')\n",
    "\n",
    "plt.xlabel(\"Date\")\n",
    "plt.ylabel(\"Confirmed Cases\")\n",
    "plt.title(\"COVID-19 Confirmed Cases in China Over Time\")\n",
    "plt.legend()\n",
    "plt.tight_layout()\n",
    "plt.show()"
   ]
  },
  {
   "cell_type": "code",
   "execution_count": 59,
   "id": "2bffb3b2",
   "metadata": {},
   "outputs": [
    {
     "data": {
      "image/png": "[encoded data removed]",
      "text/plain": [
       "<Figure size 1200x600 with 1 Axes>"
      ]
     },
     "metadata": {},
     "output_type": "display_data"
    }
   ],
   "source": [
    "countries = [\"US\", \"India\", \"Brazil\", \"Russia\", \"France\"]\n",
    "selected_data = final[final[\"Country/Region\"].isin(countries)]\n",
    "plt.figure(figsize=(12, 6))\n",
    "\n",
    "# Loop through each country and plot\n",
    "for country in countries:\n",
    "    country_data = selected_data[selected_data[\"Country/Region\"] == country]\n",
    "    plt.plot(country_data[\"date\"], country_data[\"value\"], label=country)\n",
    "\n",
    "# Add labels and title\n",
    "plt.xlabel(\"Date\")\n",
    "plt.ylabel(\"Confirmed Cases\")\n",
    "plt.title(\"COVID-19 Confirmed Cases Over Time (Top 5 Countries)\")\n",
    "plt.legend()\n",
    "plt.tight_layout()\n",
    "plt.show()"
   ]
  },
  {
   "cell_type": "code",
   "execution_count": null,
   "id": "90d4f5e1",
   "metadata": {},
   "outputs": [],
   "source": []
  }
 ],
 "metadata": {
  "kernelspec": {
   "display_name": "virtual_env",
   "language": "python",
   "name": "python3"
  },
  "language_info": {
   "codemirror_mode": {
    "name": "ipython",
    "version": 3
   },
   "file_extension": ".py",
   "mimetype": "text/x-python",
   "name": "python",
   "nbconvert_exporter": "python",
   "pygments_lexer": "ipython3",
   "version": "3.12.3"
  }
 },
 "nbformat": 4,
 "nbformat_minor": 5
}
